{
 "cells": [
  {
   "cell_type": "markdown",
   "metadata": {},
   "source": [
    "# Chapter 2 Exercises"
   ]
  },
  {
   "cell_type": "code",
   "execution_count": 1,
   "metadata": {},
   "outputs": [],
   "source": [
    "import os\n",
    "\n",
    "import pandas as pd\n",
    "import numpy as np\n",
    "from scipy.stats import randint\n",
    "from scipy.stats import expon, reciprocal\n",
    "import matplotlib.pyplot as plt\n",
    "\n",
    "from sklearn.preprocessing import StandardScaler\n",
    "from sklearn.base import BaseEstimator, TransformerMixin\n",
    "from sklearn.model_selection import StratifiedShuffleSplit\n",
    "from sklearn.model_selection import GridSearchCV\n",
    "from sklearn.model_selection import cross_val_score, RandomizedSearchCV\n",
    "from sklearn.impute import SimpleImputer\n",
    "from sklearn.pipeline import Pipeline\n",
    "from sklearn.compose import ColumnTransformer\n",
    "from sklearn.preprocessing import OneHotEncoder\n",
    "from sklearn.linear_model import LinearRegression\n",
    "from sklearn.metrics import mean_squared_error\n",
    "from sklearn.svm import SVR\n",
    "from sklearn.tree import DecisionTreeRegressor\n",
    "from sklearn.ensemble import RandomForestRegressor"
   ]
  },
  {
   "cell_type": "code",
   "execution_count": 2,
   "metadata": {},
   "outputs": [],
   "source": [
    "HOUSING_PATH = os.path.join('datasets', 'housing')\n",
    "\n",
    "def load_housing_data(housing_path=HOUSING_PATH):\n",
    "    csv_path = os.path.join(housing_path, 'housing.csv')\n",
    "    return pd.read_csv(csv_path)"
   ]
  },
  {
   "cell_type": "code",
   "execution_count": 3,
   "metadata": {},
   "outputs": [],
   "source": [
    "housing = load_housing_data()"
   ]
  },
  {
   "cell_type": "markdown",
   "metadata": {},
   "source": [
    "Create stratified train and test datasets."
   ]
  },
  {
   "cell_type": "code",
   "execution_count": 4,
   "metadata": {},
   "outputs": [],
   "source": [
    "income_cat = pd.cut(\n",
    "    housing['median_income'], \n",
    "    bins=[0., 1.5, 3.0, 4.5, 6., np.inf],\n",
    "    labels=[1, 2, 3, 4, 5])\n",
    "\n",
    "split = StratifiedShuffleSplit(n_splits=1, test_size=0.2, random_state=42)\n",
    "for train_index, test_index in split.split(housing, income_cat):\n",
    "    strat_train_set = housing.loc[train_index]\n",
    "    strat_test_set = housing.loc[test_index]"
   ]
  },
  {
   "cell_type": "code",
   "execution_count": 5,
   "metadata": {},
   "outputs": [],
   "source": [
    "housing = strat_train_set.drop('median_house_value', axis=1)\n",
    "housing_labels = strat_train_set['median_house_value'].copy()"
   ]
  },
  {
   "cell_type": "code",
   "execution_count": 6,
   "metadata": {},
   "outputs": [
    {
     "data": {
      "text/html": [
       "<div>\n",
       "<style scoped>\n",
       "    .dataframe tbody tr th:only-of-type {\n",
       "        vertical-align: middle;\n",
       "    }\n",
       "\n",
       "    .dataframe tbody tr th {\n",
       "        vertical-align: top;\n",
       "    }\n",
       "\n",
       "    .dataframe thead th {\n",
       "        text-align: right;\n",
       "    }\n",
       "</style>\n",
       "<table border=\"1\" class=\"dataframe\">\n",
       "  <thead>\n",
       "    <tr style=\"text-align: right;\">\n",
       "      <th></th>\n",
       "      <th>longitude</th>\n",
       "      <th>latitude</th>\n",
       "      <th>housing_median_age</th>\n",
       "      <th>total_rooms</th>\n",
       "      <th>total_bedrooms</th>\n",
       "      <th>population</th>\n",
       "      <th>households</th>\n",
       "      <th>median_income</th>\n",
       "      <th>ocean_proximity</th>\n",
       "    </tr>\n",
       "  </thead>\n",
       "  <tbody>\n",
       "    <tr>\n",
       "      <th>17606</th>\n",
       "      <td>-121.89</td>\n",
       "      <td>37.29</td>\n",
       "      <td>38.0</td>\n",
       "      <td>1568.0</td>\n",
       "      <td>351.0</td>\n",
       "      <td>710.0</td>\n",
       "      <td>339.0</td>\n",
       "      <td>2.7042</td>\n",
       "      <td>&lt;1H OCEAN</td>\n",
       "    </tr>\n",
       "    <tr>\n",
       "      <th>18632</th>\n",
       "      <td>-121.93</td>\n",
       "      <td>37.05</td>\n",
       "      <td>14.0</td>\n",
       "      <td>679.0</td>\n",
       "      <td>108.0</td>\n",
       "      <td>306.0</td>\n",
       "      <td>113.0</td>\n",
       "      <td>6.4214</td>\n",
       "      <td>&lt;1H OCEAN</td>\n",
       "    </tr>\n",
       "    <tr>\n",
       "      <th>14650</th>\n",
       "      <td>-117.20</td>\n",
       "      <td>32.77</td>\n",
       "      <td>31.0</td>\n",
       "      <td>1952.0</td>\n",
       "      <td>471.0</td>\n",
       "      <td>936.0</td>\n",
       "      <td>462.0</td>\n",
       "      <td>2.8621</td>\n",
       "      <td>NEAR OCEAN</td>\n",
       "    </tr>\n",
       "    <tr>\n",
       "      <th>3230</th>\n",
       "      <td>-119.61</td>\n",
       "      <td>36.31</td>\n",
       "      <td>25.0</td>\n",
       "      <td>1847.0</td>\n",
       "      <td>371.0</td>\n",
       "      <td>1460.0</td>\n",
       "      <td>353.0</td>\n",
       "      <td>1.8839</td>\n",
       "      <td>INLAND</td>\n",
       "    </tr>\n",
       "    <tr>\n",
       "      <th>3555</th>\n",
       "      <td>-118.59</td>\n",
       "      <td>34.23</td>\n",
       "      <td>17.0</td>\n",
       "      <td>6592.0</td>\n",
       "      <td>1525.0</td>\n",
       "      <td>4459.0</td>\n",
       "      <td>1463.0</td>\n",
       "      <td>3.0347</td>\n",
       "      <td>&lt;1H OCEAN</td>\n",
       "    </tr>\n",
       "  </tbody>\n",
       "</table>\n",
       "</div>"
      ],
      "text/plain": [
       "       longitude  latitude  housing_median_age  total_rooms  total_bedrooms  \\\n",
       "17606    -121.89     37.29                38.0       1568.0           351.0   \n",
       "18632    -121.93     37.05                14.0        679.0           108.0   \n",
       "14650    -117.20     32.77                31.0       1952.0           471.0   \n",
       "3230     -119.61     36.31                25.0       1847.0           371.0   \n",
       "3555     -118.59     34.23                17.0       6592.0          1525.0   \n",
       "\n",
       "       population  households  median_income ocean_proximity  \n",
       "17606       710.0       339.0         2.7042       <1H OCEAN  \n",
       "18632       306.0       113.0         6.4214       <1H OCEAN  \n",
       "14650       936.0       462.0         2.8621      NEAR OCEAN  \n",
       "3230       1460.0       353.0         1.8839          INLAND  \n",
       "3555       4459.0      1463.0         3.0347       <1H OCEAN  "
      ]
     },
     "execution_count": 6,
     "metadata": {},
     "output_type": "execute_result"
    }
   ],
   "source": [
    "housing.head()"
   ]
  },
  {
   "cell_type": "code",
   "execution_count": 7,
   "metadata": {},
   "outputs": [
    {
     "data": {
      "text/plain": [
       "17606    286600.0\n",
       "18632    340600.0\n",
       "14650    196900.0\n",
       "3230      46300.0\n",
       "3555     254500.0\n",
       "Name: median_house_value, dtype: float64"
      ]
     },
     "execution_count": 7,
     "metadata": {},
     "output_type": "execute_result"
    }
   ],
   "source": [
    "housing_labels.head()"
   ]
  },
  {
   "cell_type": "code",
   "execution_count": 8,
   "metadata": {},
   "outputs": [
    {
     "name": "stdout",
     "output_type": "stream",
     "text": [
      "<class 'pandas.core.frame.DataFrame'>\n",
      "Int64Index: 16512 entries, 17606 to 15775\n",
      "Data columns (total 9 columns):\n",
      "longitude             16512 non-null float64\n",
      "latitude              16512 non-null float64\n",
      "housing_median_age    16512 non-null float64\n",
      "total_rooms           16512 non-null float64\n",
      "total_bedrooms        16354 non-null float64\n",
      "population            16512 non-null float64\n",
      "households            16512 non-null float64\n",
      "median_income         16512 non-null float64\n",
      "ocean_proximity       16512 non-null object\n",
      "dtypes: float64(8), object(1)\n",
      "memory usage: 1.3+ MB\n"
     ]
    }
   ],
   "source": [
    "housing.info()"
   ]
  },
  {
   "cell_type": "markdown",
   "metadata": {},
   "source": [
    "## Data Preparation\n",
    "We want to first impute missing values, then add feature-engineered attributes, and then apply standardization. Since sklearn's SimpleImputer returns numpy array, our custom transformer must deal with numpy array, not pandas dataframe. Let's build the transformer."
   ]
  },
  {
   "cell_type": "code",
   "execution_count": 9,
   "metadata": {},
   "outputs": [],
   "source": [
    "rooms_ix, bedrooms_ix, population_ix, households_ix = 3, 4, 5, 6\n",
    "\n",
    "class CombinedAttributesAdder(BaseEstimator, TransformerMixin):\n",
    "    def __init__(self, add_bedrooms_per_room=True):\n",
    "        self.add_bedrooms_per_room = add_bedrooms_per_room\n",
    "        \n",
    "    def fit(self, X, y=None):\n",
    "        return self\n",
    "    \n",
    "    def transform(self, X, y=None):\n",
    "        rooms_per_household = X[:, rooms_ix] / X[:, households_ix]\n",
    "        population_per_household = X[:, population_ix] / X[:, households_ix]\n",
    "        if self.add_bedrooms_per_room:\n",
    "            bedrooms_per_room = X[:, bedrooms_ix] / X[:, rooms_ix]\n",
    "            return np.c_[X, rooms_per_household, population_per_household, bedrooms_per_room]\n",
    "        else:\n",
    "            return np.c_[X, rooms_per_household, population_per_household]"
   ]
  },
  {
   "cell_type": "code",
   "execution_count": 10,
   "metadata": {},
   "outputs": [],
   "source": [
    "num_pipeline = Pipeline([\n",
    "    ('imputer', SimpleImputer(strategy='median')),\n",
    "    ('feats_adder', CombinedAttributesAdder()),\n",
    "    ('std_scaler', StandardScaler())])"
   ]
  },
  {
   "cell_type": "code",
   "execution_count": 11,
   "metadata": {},
   "outputs": [],
   "source": [
    "num_attribs = housing.drop('ocean_proximity', axis=1).columns.tolist()\n",
    "cat_attribs = ['ocean_proximity']\n",
    "full_pipeline = ColumnTransformer([\n",
    "    ('num', num_pipeline, num_attribs),\n",
    "    ('cat', OneHotEncoder(), cat_attribs),\n",
    "#    ('sel', AttributesSelector(), )\n",
    "])"
   ]
  },
  {
   "cell_type": "code",
   "execution_count": 12,
   "metadata": {},
   "outputs": [],
   "source": [
    "housing_prepared = full_pipeline.fit_transform(housing)"
   ]
  },
  {
   "cell_type": "code",
   "execution_count": 13,
   "metadata": {},
   "outputs": [
    {
     "data": {
      "text/plain": [
       "(16512, 16)"
      ]
     },
     "execution_count": 13,
     "metadata": {},
     "output_type": "execute_result"
    }
   ],
   "source": [
    "housing_prepared.shape"
   ]
  },
  {
   "cell_type": "code",
   "execution_count": 64,
   "metadata": {},
   "outputs": [
    {
     "data": {
      "text/plain": [
       "['longitude',\n",
       " 'latitude',\n",
       " 'housing_median_age',\n",
       " 'total_rooms',\n",
       " 'total_bedrooms',\n",
       " 'population',\n",
       " 'households',\n",
       " 'median_income',\n",
       " 'rooms_per_hhold',\n",
       " 'pop_per_hhold',\n",
       " 'bedrooms_per_room',\n",
       " '<1H OCEAN',\n",
       " 'INLAND',\n",
       " 'ISLAND',\n",
       " 'NEAR BAY',\n",
       " 'NEAR OCEAN']"
      ]
     },
     "execution_count": 64,
     "metadata": {},
     "output_type": "execute_result"
    }
   ],
   "source": [
    "extra_attribs = [\"rooms_per_hhold\", \"pop_per_hhold\", \"bedrooms_per_room\"]\n",
    "cat_encoder = full_pipeline.named_transformers_[\"cat\"]\n",
    "one_hot_attribs = cat_encoder.categories_[0].tolist()\n",
    "final_attribs = num_attribs + extra_attribs + one_hot_attribs\n",
    "final_attribs"
   ]
  },
  {
   "cell_type": "code",
   "execution_count": null,
   "metadata": {},
   "outputs": [],
   "source": []
  },
  {
   "cell_type": "code",
   "execution_count": null,
   "metadata": {},
   "outputs": [],
   "source": []
  },
  {
   "cell_type": "code",
   "execution_count": null,
   "metadata": {},
   "outputs": [],
   "source": []
  },
  {
   "cell_type": "markdown",
   "metadata": {},
   "source": [
    "## Ex. 1"
   ]
  },
  {
   "cell_type": "code",
   "execution_count": 16,
   "metadata": {},
   "outputs": [],
   "source": [
    "def train_rmse(model, X_train, y_train):\n",
    "    model.fit(X_train, y_train)\n",
    "    y_hat = model.predict(X_train)\n",
    "    mse = mean_squared_error(y_train, y_hat)\n",
    "    rmse = np.sqrt(mse)\n",
    "    return rmse"
   ]
  },
  {
   "cell_type": "code",
   "execution_count": 18,
   "metadata": {},
   "outputs": [],
   "source": [
    "def display_scores(scores):\n",
    "    print('Scores:', scores)\n",
    "    print('Mean:', scores.mean())\n",
    "    print('Standard deviation:', scores.std())"
   ]
  },
  {
   "cell_type": "code",
   "execution_count": 17,
   "metadata": {},
   "outputs": [
    {
     "data": {
      "text/plain": [
       "81933.17308297305"
      ]
     },
     "execution_count": 17,
     "metadata": {},
     "output_type": "execute_result"
    }
   ],
   "source": [
    "model = SVR(kernel='linear', C=10)\n",
    "train_rmse(model, housing_prepared, housing_labels)"
   ]
  },
  {
   "cell_type": "code",
   "execution_count": 19,
   "metadata": {},
   "outputs": [
    {
     "name": "stdout",
     "output_type": "stream",
     "text": [
      "Scores: [82523.29389342 84112.2759816  86020.51768556 84028.00912106\n",
      " 86524.5916677 ]\n",
      "Mean: 84641.73766986448\n",
      "Standard deviation: 1455.4016595946698\n"
     ]
    }
   ],
   "source": [
    "scores = cross_val_score(model, housing_prepared, housing_labels, scoring='neg_mean_squared_error', cv=5)\n",
    "rmse = np.sqrt(-scores)\n",
    "display_scores(rmse)"
   ]
  },
  {
   "cell_type": "code",
   "execution_count": null,
   "metadata": {},
   "outputs": [],
   "source": [
    "#model = SVR(kernel='linear', C=100)\n",
    "#train_rmse(model, housing_prepared, housing_labels)"
   ]
  },
  {
   "cell_type": "code",
   "execution_count": null,
   "metadata": {},
   "outputs": [],
   "source": [
    "#model = SVR(kernel='linear', C=1000)\n",
    "#train_rmse(model, housing_prepared, housing_labels)"
   ]
  },
  {
   "cell_type": "code",
   "execution_count": null,
   "metadata": {},
   "outputs": [],
   "source": [
    "#model = SVR(kernel='rbf', C=100)\n",
    "#train_rmse(model, housing_prepared, housing_labels)"
   ]
  },
  {
   "cell_type": "code",
   "execution_count": null,
   "metadata": {},
   "outputs": [],
   "source": [
    "#model = SVR(kernel='rbf', C=100, gamma='scale')\n",
    "#train_rmse(model, housing_prepared, housing_labels)"
   ]
  },
  {
   "cell_type": "code",
   "execution_count": 24,
   "metadata": {},
   "outputs": [],
   "source": [
    "param_grid = [\n",
    "    {'kernel': ['linear'], 'C': [1, 10]},\n",
    "    {'kernel': ['rbf'], 'C': [1, 10], 'gamma': [0.1, 1.0]}\n",
    "]"
   ]
  },
  {
   "cell_type": "code",
   "execution_count": 29,
   "metadata": {},
   "outputs": [],
   "source": [
    "model = SVR()\n",
    "grid_search = GridSearchCV(model, param_grid, cv=3, scoring='neg_mean_squared_error', return_train_score=True, verbose=2)"
   ]
  },
  {
   "cell_type": "code",
   "execution_count": 30,
   "metadata": {},
   "outputs": [
    {
     "name": "stdout",
     "output_type": "stream",
     "text": [
      "Fitting 3 folds for each of 6 candidates, totalling 18 fits\n",
      "[CV] C=1, kernel=linear ..............................................\n"
     ]
    },
    {
     "name": "stderr",
     "output_type": "stream",
     "text": [
      "[Parallel(n_jobs=1)]: Using backend SequentialBackend with 1 concurrent workers.\n"
     ]
    },
    {
     "name": "stdout",
     "output_type": "stream",
     "text": [
      "[CV] ............................... C=1, kernel=linear, total=   5.8s\n",
      "[CV] C=1, kernel=linear ..............................................\n"
     ]
    },
    {
     "name": "stderr",
     "output_type": "stream",
     "text": [
      "[Parallel(n_jobs=1)]: Done   1 out of   1 | elapsed:    7.5s remaining:    0.0s\n"
     ]
    },
    {
     "name": "stdout",
     "output_type": "stream",
     "text": [
      "[CV] ............................... C=1, kernel=linear, total=   6.1s\n",
      "[CV] C=1, kernel=linear ..............................................\n",
      "[CV] ............................... C=1, kernel=linear, total=   7.0s\n",
      "[CV] C=10, kernel=linear .............................................\n",
      "[CV] .............................. C=10, kernel=linear, total=   5.1s\n",
      "[CV] C=10, kernel=linear .............................................\n",
      "[CV] .............................. C=10, kernel=linear, total=   5.5s\n",
      "[CV] C=10, kernel=linear .............................................\n",
      "[CV] .............................. C=10, kernel=linear, total=   5.6s\n",
      "[CV] C=1, gamma=0.1, kernel=rbf ......................................\n",
      "[CV] ....................... C=1, gamma=0.1, kernel=rbf, total=   9.3s\n",
      "[CV] C=1, gamma=0.1, kernel=rbf ......................................\n",
      "[CV] ....................... C=1, gamma=0.1, kernel=rbf, total=   8.9s\n",
      "[CV] C=1, gamma=0.1, kernel=rbf ......................................\n",
      "[CV] ....................... C=1, gamma=0.1, kernel=rbf, total=   9.1s\n",
      "[CV] C=1, gamma=1.0, kernel=rbf ......................................\n",
      "[CV] ....................... C=1, gamma=1.0, kernel=rbf, total=   8.7s\n",
      "[CV] C=1, gamma=1.0, kernel=rbf ......................................\n",
      "[CV] ....................... C=1, gamma=1.0, kernel=rbf, total=   9.1s\n",
      "[CV] C=1, gamma=1.0, kernel=rbf ......................................\n",
      "[CV] ....................... C=1, gamma=1.0, kernel=rbf, total=   8.9s\n",
      "[CV] C=10, gamma=0.1, kernel=rbf .....................................\n",
      "[CV] ...................... C=10, gamma=0.1, kernel=rbf, total=   8.7s\n",
      "[CV] C=10, gamma=0.1, kernel=rbf .....................................\n",
      "[CV] ...................... C=10, gamma=0.1, kernel=rbf, total=   8.7s\n",
      "[CV] C=10, gamma=0.1, kernel=rbf .....................................\n",
      "[CV] ...................... C=10, gamma=0.1, kernel=rbf, total=   8.5s\n",
      "[CV] C=10, gamma=1.0, kernel=rbf .....................................\n",
      "[CV] ...................... C=10, gamma=1.0, kernel=rbf, total=   8.8s\n",
      "[CV] C=10, gamma=1.0, kernel=rbf .....................................\n",
      "[CV] ...................... C=10, gamma=1.0, kernel=rbf, total=   9.5s\n",
      "[CV] C=10, gamma=1.0, kernel=rbf .....................................\n",
      "[CV] ...................... C=10, gamma=1.0, kernel=rbf, total=   8.6s\n"
     ]
    },
    {
     "name": "stderr",
     "output_type": "stream",
     "text": [
      "[Parallel(n_jobs=1)]: Done  18 out of  18 | elapsed:  3.4min finished\n"
     ]
    },
    {
     "data": {
      "text/plain": [
       "GridSearchCV(cv=3, error_score='raise-deprecating',\n",
       "       estimator=SVR(C=1.0, cache_size=200, coef0=0.0, degree=3, epsilon=0.1,\n",
       "  gamma='auto_deprecated', kernel='rbf', max_iter=-1, shrinking=True,\n",
       "  tol=0.001, verbose=False),\n",
       "       fit_params=None, iid='warn', n_jobs=None,\n",
       "       param_grid=[{'kernel': ['linear'], 'C': [1, 10]}, {'kernel': ['rbf'], 'C': [1, 10], 'gamma': [0.1, 1.0]}],\n",
       "       pre_dispatch='2*n_jobs', refit=True, return_train_score=True,\n",
       "       scoring='neg_mean_squared_error', verbose=2)"
      ]
     },
     "execution_count": 30,
     "metadata": {},
     "output_type": "execute_result"
    }
   ],
   "source": [
    "grid_search.fit(housing_prepared, housing_labels)"
   ]
  },
  {
   "cell_type": "code",
   "execution_count": 31,
   "metadata": {},
   "outputs": [
    {
     "name": "stdout",
     "output_type": "stream",
     "text": [
      "113570.79729869253 {'C': 1, 'kernel': 'linear'}\n",
      "87119.08620015063 {'C': 10, 'kernel': 'linear'}\n",
      "118703.60186463571 {'C': 1, 'gamma': 0.1, 'kernel': 'rbf'}\n",
      "118906.71407262573 {'C': 1, 'gamma': 1.0, 'kernel': 'rbf'}\n",
      "116652.85346295948 {'C': 10, 'gamma': 0.1, 'kernel': 'rbf'}\n",
      "118663.10950786504 {'C': 10, 'gamma': 1.0, 'kernel': 'rbf'}\n"
     ]
    }
   ],
   "source": [
    "cvres = grid_search.cv_results_\n",
    "for mean_score, params in zip(cvres['mean_test_score'], cvres['params']):\n",
    "    print(np.sqrt(-mean_score), params)"
   ]
  },
  {
   "cell_type": "code",
   "execution_count": 32,
   "metadata": {},
   "outputs": [
    {
     "data": {
      "text/plain": [
       "87119.08620015063"
      ]
     },
     "execution_count": 32,
     "metadata": {},
     "output_type": "execute_result"
    }
   ],
   "source": [
    "negative_mse = grid_search.best_score_\n",
    "rmse = np.sqrt(-negative_mse)\n",
    "rmse"
   ]
  },
  {
   "cell_type": "markdown",
   "metadata": {},
   "source": [
    "Let's go with linear kernel."
   ]
  },
  {
   "cell_type": "code",
   "execution_count": 33,
   "metadata": {},
   "outputs": [],
   "source": [
    "param_grid = [\n",
    "    {'kernel': ['linear'], 'C': [100, 1000, 10000, 100000, 1000000]}\n",
    "]"
   ]
  },
  {
   "cell_type": "code",
   "execution_count": 34,
   "metadata": {},
   "outputs": [
    {
     "name": "stdout",
     "output_type": "stream",
     "text": [
      "Fitting 3 folds for each of 5 candidates, totalling 15 fits\n",
      "[CV] C=100, kernel=linear ............................................\n"
     ]
    },
    {
     "name": "stderr",
     "output_type": "stream",
     "text": [
      "[Parallel(n_jobs=1)]: Using backend SequentialBackend with 1 concurrent workers.\n"
     ]
    },
    {
     "name": "stdout",
     "output_type": "stream",
     "text": [
      "[CV] ............................. C=100, kernel=linear, total=   5.6s\n",
      "[CV] C=100, kernel=linear ............................................\n"
     ]
    },
    {
     "name": "stderr",
     "output_type": "stream",
     "text": [
      "[Parallel(n_jobs=1)]: Done   1 out of   1 | elapsed:    7.4s remaining:    0.0s\n"
     ]
    },
    {
     "name": "stdout",
     "output_type": "stream",
     "text": [
      "[CV] ............................. C=100, kernel=linear, total=   5.5s\n",
      "[CV] C=100, kernel=linear ............................................\n",
      "[CV] ............................. C=100, kernel=linear, total=   5.4s\n",
      "[CV] C=1000, kernel=linear ...........................................\n",
      "[CV] ............................ C=1000, kernel=linear, total=   5.5s\n",
      "[CV] C=1000, kernel=linear ...........................................\n",
      "[CV] ............................ C=1000, kernel=linear, total=   5.3s\n",
      "[CV] C=1000, kernel=linear ...........................................\n",
      "[CV] ............................ C=1000, kernel=linear, total=   5.1s\n",
      "[CV] C=10000, kernel=linear ..........................................\n",
      "[CV] ........................... C=10000, kernel=linear, total=   6.9s\n",
      "[CV] C=10000, kernel=linear ..........................................\n",
      "[CV] ........................... C=10000, kernel=linear, total=   7.4s\n",
      "[CV] C=10000, kernel=linear ..........................................\n",
      "[CV] ........................... C=10000, kernel=linear, total=   7.0s\n",
      "[CV] C=100000, kernel=linear .........................................\n",
      "[CV] .......................... C=100000, kernel=linear, total=  25.4s\n",
      "[CV] C=100000, kernel=linear .........................................\n",
      "[CV] .......................... C=100000, kernel=linear, total=  28.0s\n",
      "[CV] C=100000, kernel=linear .........................................\n",
      "[CV] .......................... C=100000, kernel=linear, total=  22.3s\n",
      "[CV] C=1000000, kernel=linear ........................................\n",
      "[CV] ......................... C=1000000, kernel=linear, total= 4.1min\n",
      "[CV] C=1000000, kernel=linear ........................................\n",
      "[CV] ......................... C=1000000, kernel=linear, total= 2.8min\n",
      "[CV] C=1000000, kernel=linear ........................................\n",
      "[CV] ......................... C=1000000, kernel=linear, total= 2.3min\n"
     ]
    },
    {
     "name": "stderr",
     "output_type": "stream",
     "text": [
      "[Parallel(n_jobs=1)]: Done  15 out of  15 | elapsed: 11.8min finished\n"
     ]
    },
    {
     "data": {
      "text/plain": [
       "GridSearchCV(cv=3, error_score='raise-deprecating',\n",
       "       estimator=SVR(C=1.0, cache_size=200, coef0=0.0, degree=3, epsilon=0.1,\n",
       "  gamma='auto_deprecated', kernel='rbf', max_iter=-1, shrinking=True,\n",
       "  tol=0.001, verbose=False),\n",
       "       fit_params=None, iid='warn', n_jobs=None,\n",
       "       param_grid=[{'kernel': ['linear'], 'C': [100, 1000, 10000, 100000, 1000000]}],\n",
       "       pre_dispatch='2*n_jobs', refit=True, return_train_score=True,\n",
       "       scoring='neg_mean_squared_error', verbose=2)"
      ]
     },
     "execution_count": 34,
     "metadata": {},
     "output_type": "execute_result"
    }
   ],
   "source": [
    "model = SVR()\n",
    "grid_search = GridSearchCV(model, param_grid, cv=3, scoring='neg_mean_squared_error', return_train_score=True, verbose=2)\n",
    "grid_search.fit(housing_prepared, housing_labels)"
   ]
  },
  {
   "cell_type": "code",
   "execution_count": 35,
   "metadata": {},
   "outputs": [
    {
     "name": "stdout",
     "output_type": "stream",
     "text": [
      "71923.97409919975 {'C': 100, 'kernel': 'linear'}\n",
      "70450.19366403717 {'C': 1000, 'kernel': 'linear'}\n",
      "70363.61850866773 {'C': 10000, 'kernel': 'linear'}\n",
      "70346.66796724661 {'C': 100000, 'kernel': 'linear'}\n",
      "70355.6350099324 {'C': 1000000, 'kernel': 'linear'}\n"
     ]
    }
   ],
   "source": [
    "cvres = grid_search.cv_results_\n",
    "for mean_score, params in zip(cvres['mean_test_score'], cvres['params']):\n",
    "    print(np.sqrt(-mean_score), params)"
   ]
  },
  {
   "cell_type": "markdown",
   "metadata": {},
   "source": [
    "## Ex. 2"
   ]
  },
  {
   "cell_type": "markdown",
   "metadata": {},
   "source": [
    "Check out what reciprocal distribution looks like."
   ]
  },
  {
   "cell_type": "code",
   "execution_count": 81,
   "metadata": {},
   "outputs": [
    {
     "data": {
      "text/plain": [
       "[<matplotlib.lines.Line2D at 0x1afad495d68>]"
      ]
     },
     "execution_count": 81,
     "metadata": {},
     "output_type": "execute_result"
    },
    {
     "data": {
      "image/png": "[encoded data removed]",
      "text/plain": [
       "<Figure size 432x288 with 1 Axes>"
      ]
     },
     "metadata": {
      "needs_background": "light"
     },
     "output_type": "display_data"
    }
   ],
   "source": [
    "x = np.linspace(10, 1000000, 100000)\n",
    "y =  reciprocal.pdf(x, a=10, b=1000000)\n",
    "plt.plot(x, y)"
   ]
  },
  {
   "cell_type": "code",
   "execution_count": 82,
   "metadata": {},
   "outputs": [],
   "source": [
    "model = SVR()"
   ]
  },
  {
   "cell_type": "code",
   "execution_count": 83,
   "metadata": {},
   "outputs": [],
   "source": [
    "params = {\n",
    "    'kernel': ['linear', 'rbf'],\n",
    "    'C': reciprocal(a=10, b=1000000),\n",
    "    'gamma': expon(scale=1.0)\n",
    "}"
   ]
  },
  {
   "cell_type": "code",
   "execution_count": 84,
   "metadata": {},
   "outputs": [],
   "source": [
    "random_search = RandomizedSearchCV(\n",
    "    model,\n",
    "    params,\n",
    "    cv=3,\n",
    "    scoring='neg_mean_squared_error',\n",
    "    n_iter=5,\n",
    "    return_train_score=False,\n",
    "    verbose=2)"
   ]
  },
  {
   "cell_type": "code",
   "execution_count": 85,
   "metadata": {},
   "outputs": [
    {
     "name": "stdout",
     "output_type": "stream",
     "text": [
      "Fitting 3 folds for each of 5 candidates, totalling 15 fits\n",
      "[CV] C=9866.336588566946, gamma=0.891678982526602, kernel=linear .....\n"
     ]
    },
    {
     "name": "stderr",
     "output_type": "stream",
     "text": [
      "[Parallel(n_jobs=1)]: Using backend SequentialBackend with 1 concurrent workers.\n"
     ]
    },
    {
     "name": "stdout",
     "output_type": "stream",
     "text": [
      "[CV]  C=9866.336588566946, gamma=0.891678982526602, kernel=linear, total=   7.7s\n",
      "[CV] C=9866.336588566946, gamma=0.891678982526602, kernel=linear .....\n"
     ]
    },
    {
     "name": "stderr",
     "output_type": "stream",
     "text": [
      "[Parallel(n_jobs=1)]: Done   1 out of   1 | elapsed:    7.7s remaining:    0.0s\n"
     ]
    },
    {
     "name": "stdout",
     "output_type": "stream",
     "text": [
      "[CV]  C=9866.336588566946, gamma=0.891678982526602, kernel=linear, total=   8.1s\n",
      "[CV] C=9866.336588566946, gamma=0.891678982526602, kernel=linear .....\n",
      "[CV]  C=9866.336588566946, gamma=0.891678982526602, kernel=linear, total=   7.4s\n",
      "[CV] C=74309.61435621307, gamma=1.2763760166977702, kernel=rbf .......\n",
      "[CV]  C=74309.61435621307, gamma=1.2763760166977702, kernel=rbf, total=  25.6s\n",
      "[CV] C=74309.61435621307, gamma=1.2763760166977702, kernel=rbf .......\n",
      "[CV]  C=74309.61435621307, gamma=1.2763760166977702, kernel=rbf, total=  27.5s\n",
      "[CV] C=74309.61435621307, gamma=1.2763760166977702, kernel=rbf .......\n",
      "[CV]  C=74309.61435621307, gamma=1.2763760166977702, kernel=rbf, total=  26.9s\n",
      "[CV] C=19639.966597154013, gamma=1.559388897764821, kernel=linear ....\n",
      "[CV]  C=19639.966597154013, gamma=1.559388897764821, kernel=linear, total=   9.3s\n",
      "[CV] C=19639.966597154013, gamma=1.559388897764821, kernel=linear ....\n",
      "[CV]  C=19639.966597154013, gamma=1.559388897764821, kernel=linear, total=   9.9s\n",
      "[CV] C=19639.966597154013, gamma=1.559388897764821, kernel=linear ....\n",
      "[CV]  C=19639.966597154013, gamma=1.559388897764821, kernel=linear, total=   8.7s\n",
      "[CV] C=179.3537763091342, gamma=0.30893993941449144, kernel=rbf ......\n",
      "[CV]  C=179.3537763091342, gamma=0.30893993941449144, kernel=rbf, total=   8.5s\n",
      "[CV] C=179.3537763091342, gamma=0.30893993941449144, kernel=rbf ......\n",
      "[CV]  C=179.3537763091342, gamma=0.30893993941449144, kernel=rbf, total=   8.4s\n",
      "[CV] C=179.3537763091342, gamma=0.30893993941449144, kernel=rbf ......\n",
      "[CV]  C=179.3537763091342, gamma=0.30893993941449144, kernel=rbf, total=   8.4s\n",
      "[CV] C=48.20697999471485, gamma=2.2849637585544764, kernel=rbf .......\n",
      "[CV]  C=48.20697999471485, gamma=2.2849637585544764, kernel=rbf, total=   9.1s\n",
      "[CV] C=48.20697999471485, gamma=2.2849637585544764, kernel=rbf .......\n",
      "[CV]  C=48.20697999471485, gamma=2.2849637585544764, kernel=rbf, total=  10.1s\n",
      "[CV] C=48.20697999471485, gamma=2.2849637585544764, kernel=rbf .......\n",
      "[CV]  C=48.20697999471485, gamma=2.2849637585544764, kernel=rbf, total=   9.4s\n"
     ]
    },
    {
     "name": "stderr",
     "output_type": "stream",
     "text": [
      "[Parallel(n_jobs=1)]: Done  15 out of  15 | elapsed:  3.1min finished\n"
     ]
    },
    {
     "data": {
      "text/plain": [
       "RandomizedSearchCV(cv=3, error_score='raise-deprecating',\n",
       "          estimator=SVR(C=1.0, cache_size=200, coef0=0.0, degree=3, epsilon=0.1,\n",
       "  gamma='auto_deprecated', kernel='rbf', max_iter=-1, shrinking=True,\n",
       "  tol=0.001, verbose=False),\n",
       "          fit_params=None, iid='warn', n_iter=5, n_jobs=None,\n",
       "          param_distributions={'kernel': ['linear', 'rbf'], 'C': <scipy.stats._distn_infrastructure.rv_frozen object at 0x000001AFAC1D26D8>, 'gamma': <scipy.stats._distn_infrastructure.rv_frozen object at 0x000001AFAD46E208>},\n",
       "          pre_dispatch='2*n_jobs', random_state=None, refit=True,\n",
       "          return_train_score=False, scoring='neg_mean_squared_error',\n",
       "          verbose=2)"
      ]
     },
     "execution_count": 85,
     "metadata": {},
     "output_type": "execute_result"
    }
   ],
   "source": [
    "random_search.fit(housing_prepared, housing_labels)"
   ]
  },
  {
   "cell_type": "code",
   "execution_count": 86,
   "metadata": {},
   "outputs": [
    {
     "name": "stdout",
     "output_type": "stream",
     "text": [
      "70363.81272544953 {'C': 9866.336588566946, 'gamma': 0.891678982526602, 'kernel': 'linear'}\n",
      "64969.64205053191 {'C': 74309.61435621307, 'gamma': 1.2763760166977702, 'kernel': 'rbf'}\n",
      "70354.96646378985 {'C': 19639.966597154013, 'gamma': 1.559388897764821, 'kernel': 'linear'}\n",
      "103025.2541852378 {'C': 179.3537763091342, 'gamma': 0.30893993941449144, 'kernel': 'rbf'}\n",
      "118610.42040746527 {'C': 48.20697999471485, 'gamma': 2.2849637585544764, 'kernel': 'rbf'}\n"
     ]
    }
   ],
   "source": [
    "cvres = random_search.cv_results_\n",
    "for mean_score, params in zip(cvres['mean_test_score'], cvres['params']):\n",
    "    print(np.sqrt(-mean_score), params)"
   ]
  },
  {
   "cell_type": "code",
   "execution_count": 87,
   "metadata": {},
   "outputs": [
    {
     "data": {
      "text/plain": [
       "{'C': 74309.61435621307, 'gamma': 1.2763760166977702, 'kernel': 'rbf'}"
      ]
     },
     "execution_count": 87,
     "metadata": {},
     "output_type": "execute_result"
    }
   ],
   "source": [
    "random_search.best_params_"
   ]
  },
  {
   "cell_type": "code",
   "execution_count": 88,
   "metadata": {},
   "outputs": [
    {
     "data": {
      "text/plain": [
       "SVR(C=74309.61435621307, cache_size=200, coef0=0.0, degree=3, epsilon=0.1,\n",
       "  gamma=1.2763760166977702, kernel='rbf', max_iter=-1, shrinking=True,\n",
       "  tol=0.001, verbose=False)"
      ]
     },
     "execution_count": 88,
     "metadata": {},
     "output_type": "execute_result"
    }
   ],
   "source": [
    "random_searchrch.best_estimator_"
   ]
  },
  {
   "cell_type": "markdown",
   "metadata": {},
   "source": [
    "## Ex. 3"
   ]
  },
  {
   "cell_type": "code",
   "execution_count": 44,
   "metadata": {},
   "outputs": [],
   "source": [
    "def indices_of_top_k(feature_importances, k):\n",
    "    return np.argpartition(feature_importances, -k)[-k:]\n",
    "\n",
    "class FeatureSelector(BaseEstimator, TransformerMixin):\n",
    "    def __init__(self, feature_importances, k):\n",
    "        self.feature_importances = feature_importances\n",
    "        self.k = k\n",
    "        \n",
    "    def fit(self, X, y=None):\n",
    "        return self\n",
    "    \n",
    "    def transform(self, X, y=None):\n",
    "        self.feature_indices_ = indices_of_top_k(self.feature_importances, self.k)\n",
    "        return X[:, self.feature_indices_]"
   ]
  },
  {
   "cell_type": "code",
   "execution_count": 45,
   "metadata": {},
   "outputs": [
    {
     "name": "stderr",
     "output_type": "stream",
     "text": [
      "C:\\Users\\sk8re\\Miniconda3\\envs\\datascience\\lib\\site-packages\\sklearn\\ensemble\\forest.py:246: FutureWarning: The default value of n_estimators will change from 10 in version 0.20 to 100 in 0.22.\n",
      "  \"10 in version 0.20 to 100 in 0.22.\", FutureWarning)\n"
     ]
    },
    {
     "data": {
      "text/plain": [
       "RandomForestRegressor(bootstrap=True, criterion='mse', max_depth=None,\n",
       "           max_features='auto', max_leaf_nodes=None,\n",
       "           min_impurity_decrease=0.0, min_impurity_split=None,\n",
       "           min_samples_leaf=1, min_samples_split=2,\n",
       "           min_weight_fraction_leaf=0.0, n_estimators=10, n_jobs=None,\n",
       "           oob_score=False, random_state=None, verbose=0, warm_start=False)"
      ]
     },
     "execution_count": 45,
     "metadata": {},
     "output_type": "execute_result"
    }
   ],
   "source": [
    "rfr = RandomForestRegressor()\n",
    "rfr.fit(housing_prepared, housing_labels)"
   ]
  },
  {
   "cell_type": "code",
   "execution_count": 110,
   "metadata": {},
   "outputs": [
    {
     "data": {
      "text/plain": [
       "array([5.82659867e-02, 5.74410310e-02, 4.33492473e-02, 1.45763762e-02,\n",
       "       1.18902048e-02, 1.18155910e-02, 1.04745861e-02, 4.75737755e-01,\n",
       "       2.73145525e-02, 1.22949336e-01, 2.29678355e-02, 1.27390201e-03,\n",
       "       1.38960893e-01, 2.02302939e-05, 8.89897733e-04, 2.07257453e-03])"
      ]
     },
     "execution_count": 110,
     "metadata": {},
     "output_type": "execute_result"
    }
   ],
   "source": [
    "feature_importances = rfr.feature_importances_\n",
    "feature_importances"
   ]
  },
  {
   "cell_type": "code",
   "execution_count": 47,
   "metadata": {},
   "outputs": [],
   "source": [
    "k = 5"
   ]
  },
  {
   "cell_type": "code",
   "execution_count": 111,
   "metadata": {},
   "outputs": [],
   "source": [
    "top_k_feature_indices = indices_of_top_k(feature_importances, k)"
   ]
  },
  {
   "cell_type": "code",
   "execution_count": 49,
   "metadata": {},
   "outputs": [
    {
     "data": {
      "text/plain": [
       "array([ 1,  0, 12,  9,  7], dtype=int64)"
      ]
     },
     "execution_count": 49,
     "metadata": {},
     "output_type": "execute_result"
    }
   ],
   "source": [
    "top_k_feature_indices"
   ]
  },
  {
   "cell_type": "code",
   "execution_count": 112,
   "metadata": {},
   "outputs": [
    {
     "data": {
      "text/plain": [
       "array(['latitude', 'longitude', 'INLAND', 'pop_per_hhold',\n",
       "       'median_income'], dtype='<U18')"
      ]
     },
     "execution_count": 112,
     "metadata": {},
     "output_type": "execute_result"
    }
   ],
   "source": [
    "np.array(final_attribs)[top_k_feature_indices]"
   ]
  },
  {
   "cell_type": "code",
   "execution_count": 113,
   "metadata": {},
   "outputs": [
    {
     "data": {
      "text/plain": [
       "[(0.47573775548988123, 'median_income'),\n",
       " (0.13896089288802452, 'INLAND'),\n",
       " (0.12294933601695927, 'pop_per_hhold'),\n",
       " (0.058265986707554805, 'longitude'),\n",
       " (0.05744103098445778, 'latitude')]"
      ]
     },
     "execution_count": 113,
     "metadata": {},
     "output_type": "execute_result"
    }
   ],
   "source": [
    "sorted(zip(feature_importances, final_attribs), reverse=True)[:k]"
   ]
  },
  {
   "cell_type": "code",
   "execution_count": 71,
   "metadata": {},
   "outputs": [],
   "source": [
    "prep_feat_select_pipeline = Pipeline([\n",
    "    ('preparation', full_pipeline),\n",
    "    ('feat_selector', FeatureSelector(fi, k))])"
   ]
  },
  {
   "cell_type": "code",
   "execution_count": 72,
   "metadata": {},
   "outputs": [],
   "source": [
    "housing_prep_top_k = prep_feat_select_pipeline.fit_transform(housing)"
   ]
  },
  {
   "cell_type": "code",
   "execution_count": 76,
   "metadata": {},
   "outputs": [
    {
     "data": {
      "text/plain": [
       "array([[ 0.77194962, -1.15604281,  0.        , -0.08649871, -0.61493744],\n",
       "       [ 0.6596948 , -1.17602483,  0.        , -0.03353391,  1.33645936],\n",
       "       [-1.34218285,  1.18684903,  0.        , -0.09240499, -0.5320456 ]])"
      ]
     },
     "execution_count": 76,
     "metadata": {},
     "output_type": "execute_result"
    }
   ],
   "source": [
    "housing_prep_top_k[:3]"
   ]
  },
  {
   "cell_type": "code",
   "execution_count": 80,
   "metadata": {},
   "outputs": [
    {
     "data": {
      "text/plain": [
       "array([[ 0.77194962, -1.15604281,  0.        , -0.08649871, -0.61493744],\n",
       "       [ 0.6596948 , -1.17602483,  0.        , -0.03353391,  1.33645936],\n",
       "       [-1.34218285,  1.18684903,  0.        , -0.09240499, -0.5320456 ]])"
      ]
     },
     "execution_count": 80,
     "metadata": {},
     "output_type": "execute_result"
    }
   ],
   "source": [
    "housing_prepared[:3, top_k_feature_indices]"
   ]
  },
  {
   "cell_type": "markdown",
   "metadata": {},
   "source": [
    "## Ex. 4"
   ]
  },
  {
   "cell_type": "code",
   "execution_count": 117,
   "metadata": {},
   "outputs": [],
   "source": [
    "prep_select_predict_pipeline = Pipeline([\n",
    "    ('preparation', full_pipeline),\n",
    "    ('feat_selector', FeatureSelector(feature_importances, k)),\n",
    "    ('svr', random_search.best_estimator_)\n",
    "])"
   ]
  },
  {
   "cell_type": "code",
   "execution_count": 91,
   "metadata": {},
   "outputs": [
    {
     "data": {
      "text/plain": [
       "Pipeline(memory=None,\n",
       "     steps=[('preparation', ColumnTransformer(n_jobs=None, remainder='drop', sparse_threshold=0.3,\n",
       "         transformer_weights=None,\n",
       "         transformers=[('num', Pipeline(memory=None,\n",
       "     steps=[('imputer', SimpleImputer(copy=True, fill_value=None, missing_values=nan,\n",
       "       strategy='median', verbos...  gamma=1.2763760166977702, kernel='rbf', max_iter=-1, shrinking=True,\n",
       "  tol=0.001, verbose=False))])"
      ]
     },
     "execution_count": 91,
     "metadata": {},
     "output_type": "execute_result"
    }
   ],
   "source": [
    "prep_select_predict_pipeline.fit(housing, housing_labels)"
   ]
  },
  {
   "cell_type": "code",
   "execution_count": 108,
   "metadata": {},
   "outputs": [
    {
     "name": "stdout",
     "output_type": "stream",
     "text": [
      "labels      predictions\n",
      "286600.0    206499.7\n",
      "340600.0    364088.5\n",
      "196900.0    183001.2\n",
      " 46300.0     48940.3\n",
      "254500.0    212553.4\n"
     ]
    }
   ],
   "source": [
    "some_data = housing.iloc[:5]\n",
    "some_labels = housing_labels.iloc[:5]\n",
    "\n",
    "preds = prep_select_predict_pipeline.predict(some_data)\n",
    "\n",
    "print(\"labels      predictions\")\n",
    "for y, yhat in zip(some_labels, preds):\n",
    "    print(\"{0:8.1f}    {1:8.1f}\".format(y, yhat))"
   ]
  },
  {
   "cell_type": "markdown",
   "metadata": {},
   "source": [
    "## Ex. 5"
   ]
  },
  {
   "cell_type": "code",
   "execution_count": 127,
   "metadata": {},
   "outputs": [
    {
     "data": {
      "text/plain": [
       "{'preparation': ColumnTransformer(n_jobs=None, remainder='drop', sparse_threshold=0.3,\n",
       "          transformer_weights=None,\n",
       "          transformers=[('num', Pipeline(memory=None,\n",
       "      steps=[('imputer', SimpleImputer(copy=True, fill_value=None, missing_values=nan,\n",
       "        strategy='median', verbose=0)), ('feats_adder', CombinedAttributesAdder(add_bedrooms_per_room=True)), ('std_scaler', StandardScaler(copy=True, with_mean=True, with... 'numpy.float64'>, handle_unknown='error',\n",
       "        n_values=None, sparse=True), ['ocean_proximity'])]),\n",
       " 'feat_selector': FeatureSelector(feature_importances=array([5.82660e-02, 5.74410e-02, 4.33492e-02, 1.45764e-02, 1.18902e-02,\n",
       "        1.18156e-02, 1.04746e-02, 4.75738e-01, 2.73146e-02, 1.22949e-01,\n",
       "        2.29678e-02, 1.27390e-03, 1.38961e-01, 2.02303e-05, 8.89898e-04,\n",
       "        2.07257e-03]),\n",
       "         k=5),\n",
       " 'svr': SVR(C=74309.61435621307, cache_size=200, coef0=0.0, degree=3, epsilon=0.1,\n",
       "   gamma=1.2763760166977702, kernel='rbf', max_iter=-1, shrinking=True,\n",
       "   tol=0.001, verbose=False)}"
      ]
     },
     "execution_count": 127,
     "metadata": {},
     "output_type": "execute_result"
    }
   ],
   "source": [
    "prep_select_predict_pipeline.named_steps"
   ]
  },
  {
   "cell_type": "code",
   "execution_count": 124,
   "metadata": {},
   "outputs": [],
   "source": [
    "param_grid = [{\n",
    "    'preparation__num__imputer__strategy': ['mean', 'median', 'most_frequent'],\n",
    "    'feat_selector__k': list(range(1, len(feature_importances) + 1))\n",
    "}]"
   ]
  },
  {
   "cell_type": "code",
   "execution_count": 125,
   "metadata": {},
   "outputs": [],
   "source": [
    "grid_search = GridSearchCV(\n",
    "    prep_select_predict_pipeline,\n",
    "    param_grid,\n",
    "    cv=3,\n",
    "    scoring='neg_mean_squared_error',\n",
    "    verbose=2)"
   ]
  },
  {
   "cell_type": "code",
   "execution_count": 126,
   "metadata": {},
   "outputs": [
    {
     "name": "stdout",
     "output_type": "stream",
     "text": [
      "Fitting 3 folds for each of 48 candidates, totalling 144 fits\n",
      "[CV] feat_selector__k=1, preparation__num__imputer__strategy=mean ....\n"
     ]
    },
    {
     "name": "stderr",
     "output_type": "stream",
     "text": [
      "[Parallel(n_jobs=1)]: Using backend SequentialBackend with 1 concurrent workers.\n"
     ]
    },
    {
     "name": "stdout",
     "output_type": "stream",
     "text": [
      "[CV]  feat_selector__k=1, preparation__num__imputer__strategy=mean, total=   6.2s\n",
      "[CV] feat_selector__k=1, preparation__num__imputer__strategy=mean ....\n"
     ]
    },
    {
     "name": "stderr",
     "output_type": "stream",
     "text": [
      "[Parallel(n_jobs=1)]: Done   1 out of   1 | elapsed:    8.3s remaining:    0.0s\n"
     ]
    },
    {
     "name": "stdout",
     "output_type": "stream",
     "text": [
      "[CV]  feat_selector__k=1, preparation__num__imputer__strategy=mean, total=   6.1s\n",
      "[CV] feat_selector__k=1, preparation__num__imputer__strategy=mean ....\n",
      "[CV]  feat_selector__k=1, preparation__num__imputer__strategy=mean, total=   6.0s\n",
      "[CV] feat_selector__k=1, preparation__num__imputer__strategy=median ..\n",
      "[CV]  feat_selector__k=1, preparation__num__imputer__strategy=median, total=   6.1s\n",
      "[CV] feat_selector__k=1, preparation__num__imputer__strategy=median ..\n",
      "[CV]  feat_selector__k=1, preparation__num__imputer__strategy=median, total=   6.0s\n",
      "[CV] feat_selector__k=1, preparation__num__imputer__strategy=median ..\n",
      "[CV]  feat_selector__k=1, preparation__num__imputer__strategy=median, total=   6.0s\n",
      "[CV] feat_selector__k=1, preparation__num__imputer__strategy=most_frequent \n",
      "[CV]  feat_selector__k=1, preparation__num__imputer__strategy=most_frequent, total=   6.2s\n",
      "[CV] feat_selector__k=1, preparation__num__imputer__strategy=most_frequent \n",
      "[CV]  feat_selector__k=1, preparation__num__imputer__strategy=most_frequent, total=   6.3s\n",
      "[CV] feat_selector__k=1, preparation__num__imputer__strategy=most_frequent \n",
      "[CV]  feat_selector__k=1, preparation__num__imputer__strategy=most_frequent, total=   6.9s\n",
      "[CV] feat_selector__k=2, preparation__num__imputer__strategy=mean ....\n",
      "[CV]  feat_selector__k=2, preparation__num__imputer__strategy=mean, total=   7.2s\n",
      "[CV] feat_selector__k=2, preparation__num__imputer__strategy=mean ....\n",
      "[CV]  feat_selector__k=2, preparation__num__imputer__strategy=mean, total=   6.3s\n",
      "[CV] feat_selector__k=2, preparation__num__imputer__strategy=mean ....\n",
      "[CV]  feat_selector__k=2, preparation__num__imputer__strategy=mean, total=   6.2s\n",
      "[CV] feat_selector__k=2, preparation__num__imputer__strategy=median ..\n",
      "[CV]  feat_selector__k=2, preparation__num__imputer__strategy=median, total=   6.7s\n",
      "[CV] feat_selector__k=2, preparation__num__imputer__strategy=median ..\n",
      "[CV]  feat_selector__k=2, preparation__num__imputer__strategy=median, total=   6.5s\n",
      "[CV] feat_selector__k=2, preparation__num__imputer__strategy=median ..\n",
      "[CV]  feat_selector__k=2, preparation__num__imputer__strategy=median, total=   6.3s\n",
      "[CV] feat_selector__k=2, preparation__num__imputer__strategy=most_frequent \n",
      "[CV]  feat_selector__k=2, preparation__num__imputer__strategy=most_frequent, total=   6.4s\n",
      "[CV] feat_selector__k=2, preparation__num__imputer__strategy=most_frequent \n",
      "[CV]  feat_selector__k=2, preparation__num__imputer__strategy=most_frequent, total=   6.4s\n",
      "[CV] feat_selector__k=2, preparation__num__imputer__strategy=most_frequent \n",
      "[CV]  feat_selector__k=2, preparation__num__imputer__strategy=most_frequent, total=   6.3s\n",
      "[CV] feat_selector__k=3, preparation__num__imputer__strategy=mean ....\n",
      "[CV]  feat_selector__k=3, preparation__num__imputer__strategy=mean, total=   6.4s\n",
      "[CV] feat_selector__k=3, preparation__num__imputer__strategy=mean ....\n",
      "[CV]  feat_selector__k=3, preparation__num__imputer__strategy=mean, total=   6.4s\n",
      "[CV] feat_selector__k=3, preparation__num__imputer__strategy=mean ....\n",
      "[CV]  feat_selector__k=3, preparation__num__imputer__strategy=mean, total=   6.4s\n",
      "[CV] feat_selector__k=3, preparation__num__imputer__strategy=median ..\n",
      "[CV]  feat_selector__k=3, preparation__num__imputer__strategy=median, total=   6.4s\n",
      "[CV] feat_selector__k=3, preparation__num__imputer__strategy=median ..\n",
      "[CV]  feat_selector__k=3, preparation__num__imputer__strategy=median, total=   6.4s\n",
      "[CV] feat_selector__k=3, preparation__num__imputer__strategy=median ..\n",
      "[CV]  feat_selector__k=3, preparation__num__imputer__strategy=median, total=   6.4s\n",
      "[CV] feat_selector__k=3, preparation__num__imputer__strategy=most_frequent \n",
      "[CV]  feat_selector__k=3, preparation__num__imputer__strategy=most_frequent, total=   6.3s\n",
      "[CV] feat_selector__k=3, preparation__num__imputer__strategy=most_frequent \n",
      "[CV]  feat_selector__k=3, preparation__num__imputer__strategy=most_frequent, total=   6.5s\n",
      "[CV] feat_selector__k=3, preparation__num__imputer__strategy=most_frequent \n",
      "[CV]  feat_selector__k=3, preparation__num__imputer__strategy=most_frequent, total=   6.6s\n",
      "[CV] feat_selector__k=4, preparation__num__imputer__strategy=mean ....\n",
      "[CV]  feat_selector__k=4, preparation__num__imputer__strategy=mean, total=   6.8s\n",
      "[CV] feat_selector__k=4, preparation__num__imputer__strategy=mean ....\n",
      "[CV]  feat_selector__k=4, preparation__num__imputer__strategy=mean, total=   6.7s\n",
      "[CV] feat_selector__k=4, preparation__num__imputer__strategy=mean ....\n",
      "[CV]  feat_selector__k=4, preparation__num__imputer__strategy=mean, total=   6.9s\n",
      "[CV] feat_selector__k=4, preparation__num__imputer__strategy=median ..\n",
      "[CV]  feat_selector__k=4, preparation__num__imputer__strategy=median, total=   6.8s\n",
      "[CV] feat_selector__k=4, preparation__num__imputer__strategy=median ..\n",
      "[CV]  feat_selector__k=4, preparation__num__imputer__strategy=median, total=   6.7s\n",
      "[CV] feat_selector__k=4, preparation__num__imputer__strategy=median ..\n",
      "[CV]  feat_selector__k=4, preparation__num__imputer__strategy=median, total=   6.9s\n",
      "[CV] feat_selector__k=4, preparation__num__imputer__strategy=most_frequent \n",
      "[CV]  feat_selector__k=4, preparation__num__imputer__strategy=most_frequent, total=   6.8s\n",
      "[CV] feat_selector__k=4, preparation__num__imputer__strategy=most_frequent \n",
      "[CV]  feat_selector__k=4, preparation__num__imputer__strategy=most_frequent, total=   6.7s\n",
      "[CV] feat_selector__k=4, preparation__num__imputer__strategy=most_frequent \n",
      "[CV]  feat_selector__k=4, preparation__num__imputer__strategy=most_frequent, total=   7.6s\n",
      "[CV] feat_selector__k=5, preparation__num__imputer__strategy=mean ....\n",
      "[CV]  feat_selector__k=5, preparation__num__imputer__strategy=mean, total=   7.1s\n",
      "[CV] feat_selector__k=5, preparation__num__imputer__strategy=mean ....\n",
      "[CV]  feat_selector__k=5, preparation__num__imputer__strategy=mean, total=   7.4s\n",
      "[CV] feat_selector__k=5, preparation__num__imputer__strategy=mean ....\n",
      "[CV]  feat_selector__k=5, preparation__num__imputer__strategy=mean, total=   8.1s\n",
      "[CV] feat_selector__k=5, preparation__num__imputer__strategy=median ..\n",
      "[CV]  feat_selector__k=5, preparation__num__imputer__strategy=median, total=   7.3s\n",
      "[CV] feat_selector__k=5, preparation__num__imputer__strategy=median ..\n",
      "[CV]  feat_selector__k=5, preparation__num__imputer__strategy=median, total=   8.1s\n",
      "[CV] feat_selector__k=5, preparation__num__imputer__strategy=median ..\n",
      "[CV]  feat_selector__k=5, preparation__num__imputer__strategy=median, total=   7.4s\n",
      "[CV] feat_selector__k=5, preparation__num__imputer__strategy=most_frequent \n",
      "[CV]  feat_selector__k=5, preparation__num__imputer__strategy=most_frequent, total=   7.0s\n",
      "[CV] feat_selector__k=5, preparation__num__imputer__strategy=most_frequent \n",
      "[CV]  feat_selector__k=5, preparation__num__imputer__strategy=most_frequent, total=   7.4s\n",
      "[CV] feat_selector__k=5, preparation__num__imputer__strategy=most_frequent \n",
      "[CV]  feat_selector__k=5, preparation__num__imputer__strategy=most_frequent, total=   7.5s\n",
      "[CV] feat_selector__k=6, preparation__num__imputer__strategy=mean ....\n",
      "[CV]  feat_selector__k=6, preparation__num__imputer__strategy=mean, total=   8.9s\n",
      "[CV] feat_selector__k=6, preparation__num__imputer__strategy=mean ....\n",
      "[CV]  feat_selector__k=6, preparation__num__imputer__strategy=mean, total=   9.8s\n",
      "[CV] feat_selector__k=6, preparation__num__imputer__strategy=mean ....\n",
      "[CV]  feat_selector__k=6, preparation__num__imputer__strategy=mean, total=   8.8s\n",
      "[CV] feat_selector__k=6, preparation__num__imputer__strategy=median ..\n",
      "[CV]  feat_selector__k=6, preparation__num__imputer__strategy=median, total=   8.9s\n",
      "[CV] feat_selector__k=6, preparation__num__imputer__strategy=median ..\n",
      "[CV]  feat_selector__k=6, preparation__num__imputer__strategy=median, total=   9.2s\n",
      "[CV] feat_selector__k=6, preparation__num__imputer__strategy=median ..\n",
      "[CV]  feat_selector__k=6, preparation__num__imputer__strategy=median, total=   8.9s\n",
      "[CV] feat_selector__k=6, preparation__num__imputer__strategy=most_frequent \n",
      "[CV]  feat_selector__k=6, preparation__num__imputer__strategy=most_frequent, total=   9.1s\n",
      "[CV] feat_selector__k=6, preparation__num__imputer__strategy=most_frequent \n",
      "[CV]  feat_selector__k=6, preparation__num__imputer__strategy=most_frequent, total=   9.1s\n",
      "[CV] feat_selector__k=6, preparation__num__imputer__strategy=most_frequent \n"
     ]
    },
    {
     "name": "stdout",
     "output_type": "stream",
     "text": [
      "[CV]  feat_selector__k=6, preparation__num__imputer__strategy=most_frequent, total=   9.0s\n",
      "[CV] feat_selector__k=7, preparation__num__imputer__strategy=mean ....\n",
      "[CV]  feat_selector__k=7, preparation__num__imputer__strategy=mean, total=  11.5s\n",
      "[CV] feat_selector__k=7, preparation__num__imputer__strategy=mean ....\n",
      "[CV]  feat_selector__k=7, preparation__num__imputer__strategy=mean, total=  10.6s\n",
      "[CV] feat_selector__k=7, preparation__num__imputer__strategy=mean ....\n",
      "[CV]  feat_selector__k=7, preparation__num__imputer__strategy=mean, total=  11.0s\n",
      "[CV] feat_selector__k=7, preparation__num__imputer__strategy=median ..\n",
      "[CV]  feat_selector__k=7, preparation__num__imputer__strategy=median, total=  11.1s\n",
      "[CV] feat_selector__k=7, preparation__num__imputer__strategy=median ..\n",
      "[CV]  feat_selector__k=7, preparation__num__imputer__strategy=median, total=  10.6s\n",
      "[CV] feat_selector__k=7, preparation__num__imputer__strategy=median ..\n",
      "[CV]  feat_selector__k=7, preparation__num__imputer__strategy=median, total=  11.0s\n",
      "[CV] feat_selector__k=7, preparation__num__imputer__strategy=most_frequent \n",
      "[CV]  feat_selector__k=7, preparation__num__imputer__strategy=most_frequent, total=  11.0s\n",
      "[CV] feat_selector__k=7, preparation__num__imputer__strategy=most_frequent \n",
      "[CV]  feat_selector__k=7, preparation__num__imputer__strategy=most_frequent, total=  10.4s\n",
      "[CV] feat_selector__k=7, preparation__num__imputer__strategy=most_frequent \n",
      "[CV]  feat_selector__k=7, preparation__num__imputer__strategy=most_frequent, total=  10.9s\n",
      "[CV] feat_selector__k=8, preparation__num__imputer__strategy=mean ....\n",
      "[CV]  feat_selector__k=8, preparation__num__imputer__strategy=mean, total=  14.0s\n",
      "[CV] feat_selector__k=8, preparation__num__imputer__strategy=mean ....\n",
      "[CV]  feat_selector__k=8, preparation__num__imputer__strategy=mean, total=  12.7s\n",
      "[CV] feat_selector__k=8, preparation__num__imputer__strategy=mean ....\n",
      "[CV]  feat_selector__k=8, preparation__num__imputer__strategy=mean, total=  12.2s\n",
      "[CV] feat_selector__k=8, preparation__num__imputer__strategy=median ..\n",
      "[CV]  feat_selector__k=8, preparation__num__imputer__strategy=median, total=  13.4s\n",
      "[CV] feat_selector__k=8, preparation__num__imputer__strategy=median ..\n",
      "[CV]  feat_selector__k=8, preparation__num__imputer__strategy=median, total=  12.2s\n",
      "[CV] feat_selector__k=8, preparation__num__imputer__strategy=median ..\n",
      "[CV]  feat_selector__k=8, preparation__num__imputer__strategy=median, total=  12.2s\n",
      "[CV] feat_selector__k=8, preparation__num__imputer__strategy=most_frequent \n",
      "[CV]  feat_selector__k=8, preparation__num__imputer__strategy=most_frequent, total=  11.7s\n",
      "[CV] feat_selector__k=8, preparation__num__imputer__strategy=most_frequent \n",
      "[CV]  feat_selector__k=8, preparation__num__imputer__strategy=most_frequent, total=  13.1s\n",
      "[CV] feat_selector__k=8, preparation__num__imputer__strategy=most_frequent \n",
      "[CV]  feat_selector__k=8, preparation__num__imputer__strategy=most_frequent, total=  14.1s\n",
      "[CV] feat_selector__k=9, preparation__num__imputer__strategy=mean ....\n",
      "[CV]  feat_selector__k=9, preparation__num__imputer__strategy=mean, total=  15.9s\n",
      "[CV] feat_selector__k=9, preparation__num__imputer__strategy=mean ....\n",
      "[CV]  feat_selector__k=9, preparation__num__imputer__strategy=mean, total=  16.0s\n",
      "[CV] feat_selector__k=9, preparation__num__imputer__strategy=mean ....\n",
      "[CV]  feat_selector__k=9, preparation__num__imputer__strategy=mean, total=  17.8s\n",
      "[CV] feat_selector__k=9, preparation__num__imputer__strategy=median ..\n",
      "[CV]  feat_selector__k=9, preparation__num__imputer__strategy=median, total=  18.8s\n",
      "[CV] feat_selector__k=9, preparation__num__imputer__strategy=median ..\n",
      "[CV]  feat_selector__k=9, preparation__num__imputer__strategy=median, total=  16.3s\n",
      "[CV] feat_selector__k=9, preparation__num__imputer__strategy=median ..\n",
      "[CV]  feat_selector__k=9, preparation__num__imputer__strategy=median, total=  18.0s\n",
      "[CV] feat_selector__k=9, preparation__num__imputer__strategy=most_frequent \n",
      "[CV]  feat_selector__k=9, preparation__num__imputer__strategy=most_frequent, total=  16.8s\n",
      "[CV] feat_selector__k=9, preparation__num__imputer__strategy=most_frequent \n",
      "[CV]  feat_selector__k=9, preparation__num__imputer__strategy=most_frequent, total=  17.5s\n",
      "[CV] feat_selector__k=9, preparation__num__imputer__strategy=most_frequent \n",
      "[CV]  feat_selector__k=9, preparation__num__imputer__strategy=most_frequent, total=  18.9s\n",
      "[CV] feat_selector__k=10, preparation__num__imputer__strategy=mean ...\n",
      "[CV]  feat_selector__k=10, preparation__num__imputer__strategy=mean, total=  20.5s\n",
      "[CV] feat_selector__k=10, preparation__num__imputer__strategy=mean ...\n",
      "[CV]  feat_selector__k=10, preparation__num__imputer__strategy=mean, total=  19.2s\n",
      "[CV] feat_selector__k=10, preparation__num__imputer__strategy=mean ...\n",
      "[CV]  feat_selector__k=10, preparation__num__imputer__strategy=mean, total=  18.7s\n",
      "[CV] feat_selector__k=10, preparation__num__imputer__strategy=median .\n",
      "[CV]  feat_selector__k=10, preparation__num__imputer__strategy=median, total=  20.1s\n",
      "[CV] feat_selector__k=10, preparation__num__imputer__strategy=median .\n",
      "[CV]  feat_selector__k=10, preparation__num__imputer__strategy=median, total=  21.2s\n",
      "[CV] feat_selector__k=10, preparation__num__imputer__strategy=median .\n",
      "[CV]  feat_selector__k=10, preparation__num__imputer__strategy=median, total=  20.8s\n",
      "[CV] feat_selector__k=10, preparation__num__imputer__strategy=most_frequent \n",
      "[CV]  feat_selector__k=10, preparation__num__imputer__strategy=most_frequent, total=  19.2s\n",
      "[CV] feat_selector__k=10, preparation__num__imputer__strategy=most_frequent \n",
      "[CV]  feat_selector__k=10, preparation__num__imputer__strategy=most_frequent, total=  19.6s\n",
      "[CV] feat_selector__k=10, preparation__num__imputer__strategy=most_frequent \n",
      "[CV]  feat_selector__k=10, preparation__num__imputer__strategy=most_frequent, total=  19.8s\n",
      "[CV] feat_selector__k=11, preparation__num__imputer__strategy=mean ...\n",
      "[CV]  feat_selector__k=11, preparation__num__imputer__strategy=mean, total=  20.6s\n",
      "[CV] feat_selector__k=11, preparation__num__imputer__strategy=mean ...\n",
      "[CV]  feat_selector__k=11, preparation__num__imputer__strategy=mean, total=  22.9s\n",
      "[CV] feat_selector__k=11, preparation__num__imputer__strategy=mean ...\n",
      "[CV]  feat_selector__k=11, preparation__num__imputer__strategy=mean, total=  22.5s\n",
      "[CV] feat_selector__k=11, preparation__num__imputer__strategy=median .\n",
      "[CV]  feat_selector__k=11, preparation__num__imputer__strategy=median, total=  22.7s\n",
      "[CV] feat_selector__k=11, preparation__num__imputer__strategy=median .\n",
      "[CV]  feat_selector__k=11, preparation__num__imputer__strategy=median, total=  25.1s\n",
      "[CV] feat_selector__k=11, preparation__num__imputer__strategy=median .\n",
      "[CV]  feat_selector__k=11, preparation__num__imputer__strategy=median, total=  23.4s\n",
      "[CV] feat_selector__k=11, preparation__num__imputer__strategy=most_frequent \n",
      "[CV]  feat_selector__k=11, preparation__num__imputer__strategy=most_frequent, total=  22.2s\n",
      "[CV] feat_selector__k=11, preparation__num__imputer__strategy=most_frequent \n",
      "[CV]  feat_selector__k=11, preparation__num__imputer__strategy=most_frequent, total=  21.1s\n",
      "[CV] feat_selector__k=11, preparation__num__imputer__strategy=most_frequent \n",
      "[CV]  feat_selector__k=11, preparation__num__imputer__strategy=most_frequent, total=  22.1s\n",
      "[CV] feat_selector__k=12, preparation__num__imputer__strategy=mean ...\n",
      "[CV]  feat_selector__k=12, preparation__num__imputer__strategy=mean, total=  21.9s\n",
      "[CV] feat_selector__k=12, preparation__num__imputer__strategy=mean ...\n",
      "[CV]  feat_selector__k=12, preparation__num__imputer__strategy=mean, total=  25.1s\n",
      "[CV] feat_selector__k=12, preparation__num__imputer__strategy=mean ...\n",
      "[CV]  feat_selector__k=12, preparation__num__imputer__strategy=mean, total=  26.8s\n",
      "[CV] feat_selector__k=12, preparation__num__imputer__strategy=median .\n",
      "[CV]  feat_selector__k=12, preparation__num__imputer__strategy=median, total=  21.9s\n",
      "[CV] feat_selector__k=12, preparation__num__imputer__strategy=median .\n",
      "[CV]  feat_selector__k=12, preparation__num__imputer__strategy=median, total=  23.2s\n",
      "[CV] feat_selector__k=12, preparation__num__imputer__strategy=median .\n",
      "[CV]  feat_selector__k=12, preparation__num__imputer__strategy=median, total=  24.2s\n",
      "[CV] feat_selector__k=12, preparation__num__imputer__strategy=most_frequent \n"
     ]
    },
    {
     "name": "stdout",
     "output_type": "stream",
     "text": [
      "[CV]  feat_selector__k=12, preparation__num__imputer__strategy=most_frequent, total=  23.4s\n",
      "[CV] feat_selector__k=12, preparation__num__imputer__strategy=most_frequent \n",
      "[CV]  feat_selector__k=12, preparation__num__imputer__strategy=most_frequent, total=  25.5s\n",
      "[CV] feat_selector__k=12, preparation__num__imputer__strategy=most_frequent \n",
      "[CV]  feat_selector__k=12, preparation__num__imputer__strategy=most_frequent, total=  23.7s\n",
      "[CV] feat_selector__k=13, preparation__num__imputer__strategy=mean ...\n",
      "[CV]  feat_selector__k=13, preparation__num__imputer__strategy=mean, total=  25.6s\n",
      "[CV] feat_selector__k=13, preparation__num__imputer__strategy=mean ...\n",
      "[CV]  feat_selector__k=13, preparation__num__imputer__strategy=mean, total=  24.7s\n",
      "[CV] feat_selector__k=13, preparation__num__imputer__strategy=mean ...\n",
      "[CV]  feat_selector__k=13, preparation__num__imputer__strategy=mean, total=  24.0s\n",
      "[CV] feat_selector__k=13, preparation__num__imputer__strategy=median .\n",
      "[CV]  feat_selector__k=13, preparation__num__imputer__strategy=median, total=  24.7s\n",
      "[CV] feat_selector__k=13, preparation__num__imputer__strategy=median .\n",
      "[CV]  feat_selector__k=13, preparation__num__imputer__strategy=median, total=  23.5s\n",
      "[CV] feat_selector__k=13, preparation__num__imputer__strategy=median .\n",
      "[CV]  feat_selector__k=13, preparation__num__imputer__strategy=median, total=  27.6s\n",
      "[CV] feat_selector__k=13, preparation__num__imputer__strategy=most_frequent \n",
      "[CV]  feat_selector__k=13, preparation__num__imputer__strategy=most_frequent, total=  22.5s\n",
      "[CV] feat_selector__k=13, preparation__num__imputer__strategy=most_frequent \n",
      "[CV]  feat_selector__k=13, preparation__num__imputer__strategy=most_frequent, total=  24.6s\n",
      "[CV] feat_selector__k=13, preparation__num__imputer__strategy=most_frequent \n",
      "[CV]  feat_selector__k=13, preparation__num__imputer__strategy=most_frequent, total=  25.7s\n",
      "[CV] feat_selector__k=14, preparation__num__imputer__strategy=mean ...\n",
      "[CV]  feat_selector__k=14, preparation__num__imputer__strategy=mean, total=  22.9s\n",
      "[CV] feat_selector__k=14, preparation__num__imputer__strategy=mean ...\n",
      "[CV]  feat_selector__k=14, preparation__num__imputer__strategy=mean, total=  26.7s\n",
      "[CV] feat_selector__k=14, preparation__num__imputer__strategy=mean ...\n",
      "[CV]  feat_selector__k=14, preparation__num__imputer__strategy=mean, total=  24.7s\n",
      "[CV] feat_selector__k=14, preparation__num__imputer__strategy=median .\n",
      "[CV]  feat_selector__k=14, preparation__num__imputer__strategy=median, total=  23.4s\n",
      "[CV] feat_selector__k=14, preparation__num__imputer__strategy=median .\n",
      "[CV]  feat_selector__k=14, preparation__num__imputer__strategy=median, total=  23.7s\n",
      "[CV] feat_selector__k=14, preparation__num__imputer__strategy=median .\n",
      "[CV]  feat_selector__k=14, preparation__num__imputer__strategy=median, total=  25.0s\n",
      "[CV] feat_selector__k=14, preparation__num__imputer__strategy=most_frequent \n",
      "[CV]  feat_selector__k=14, preparation__num__imputer__strategy=most_frequent, total=  26.1s\n",
      "[CV] feat_selector__k=14, preparation__num__imputer__strategy=most_frequent \n",
      "[CV]  feat_selector__k=14, preparation__num__imputer__strategy=most_frequent, total=  24.6s\n",
      "[CV] feat_selector__k=14, preparation__num__imputer__strategy=most_frequent \n",
      "[CV]  feat_selector__k=14, preparation__num__imputer__strategy=most_frequent, total=  24.4s\n",
      "[CV] feat_selector__k=15, preparation__num__imputer__strategy=mean ...\n",
      "[CV]  feat_selector__k=15, preparation__num__imputer__strategy=mean, total=  24.6s\n",
      "[CV] feat_selector__k=15, preparation__num__imputer__strategy=mean ...\n",
      "[CV]  feat_selector__k=15, preparation__num__imputer__strategy=mean, total=  27.3s\n",
      "[CV] feat_selector__k=15, preparation__num__imputer__strategy=mean ...\n",
      "[CV]  feat_selector__k=15, preparation__num__imputer__strategy=mean, total=  24.7s\n",
      "[CV] feat_selector__k=15, preparation__num__imputer__strategy=median .\n",
      "[CV]  feat_selector__k=15, preparation__num__imputer__strategy=median, total=  26.9s\n",
      "[CV] feat_selector__k=15, preparation__num__imputer__strategy=median .\n",
      "[CV]  feat_selector__k=15, preparation__num__imputer__strategy=median, total=  25.6s\n",
      "[CV] feat_selector__k=15, preparation__num__imputer__strategy=median .\n",
      "[CV]  feat_selector__k=15, preparation__num__imputer__strategy=median, total=  24.5s\n",
      "[CV] feat_selector__k=15, preparation__num__imputer__strategy=most_frequent \n",
      "[CV]  feat_selector__k=15, preparation__num__imputer__strategy=most_frequent, total=  23.6s\n",
      "[CV] feat_selector__k=15, preparation__num__imputer__strategy=most_frequent \n",
      "[CV]  feat_selector__k=15, preparation__num__imputer__strategy=most_frequent, total=  22.6s\n",
      "[CV] feat_selector__k=15, preparation__num__imputer__strategy=most_frequent \n",
      "[CV]  feat_selector__k=15, preparation__num__imputer__strategy=most_frequent, total=  24.0s\n",
      "[CV] feat_selector__k=16, preparation__num__imputer__strategy=mean ...\n",
      "[CV]  feat_selector__k=16, preparation__num__imputer__strategy=mean, total=  24.1s\n",
      "[CV] feat_selector__k=16, preparation__num__imputer__strategy=mean ...\n",
      "[CV]  feat_selector__k=16, preparation__num__imputer__strategy=mean, total=  24.7s\n",
      "[CV] feat_selector__k=16, preparation__num__imputer__strategy=mean ...\n",
      "[CV]  feat_selector__k=16, preparation__num__imputer__strategy=mean, total=  24.6s\n",
      "[CV] feat_selector__k=16, preparation__num__imputer__strategy=median .\n",
      "[CV]  feat_selector__k=16, preparation__num__imputer__strategy=median, total=  27.0s\n",
      "[CV] feat_selector__k=16, preparation__num__imputer__strategy=median .\n",
      "[CV]  feat_selector__k=16, preparation__num__imputer__strategy=median, total=  26.5s\n",
      "[CV] feat_selector__k=16, preparation__num__imputer__strategy=median .\n",
      "[CV]  feat_selector__k=16, preparation__num__imputer__strategy=median, total=  24.4s\n",
      "[CV] feat_selector__k=16, preparation__num__imputer__strategy=most_frequent \n",
      "[CV]  feat_selector__k=16, preparation__num__imputer__strategy=most_frequent, total=  26.2s\n",
      "[CV] feat_selector__k=16, preparation__num__imputer__strategy=most_frequent \n",
      "[CV]  feat_selector__k=16, preparation__num__imputer__strategy=most_frequent, total=  23.6s\n",
      "[CV] feat_selector__k=16, preparation__num__imputer__strategy=most_frequent \n",
      "[CV]  feat_selector__k=16, preparation__num__imputer__strategy=most_frequent, total=  25.2s\n"
     ]
    },
    {
     "name": "stderr",
     "output_type": "stream",
     "text": [
      "[Parallel(n_jobs=1)]: Done 144 out of 144 | elapsed: 45.0min finished\n"
     ]
    },
    {
     "data": {
      "text/plain": [
       "GridSearchCV(cv=3, error_score='raise-deprecating',\n",
       "       estimator=Pipeline(memory=None,\n",
       "     steps=[('preparation', ColumnTransformer(n_jobs=None, remainder='drop', sparse_threshold=0.3,\n",
       "         transformer_weights=None,\n",
       "         transformers=[('num', Pipeline(memory=None,\n",
       "     steps=[('imputer', SimpleImputer(copy=True, fill_value=None, missing_values=nan,\n",
       "       strategy='median', verbos...  gamma=1.2763760166977702, kernel='rbf', max_iter=-1, shrinking=True,\n",
       "  tol=0.001, verbose=False))]),\n",
       "       fit_params=None, iid='warn', n_jobs=None,\n",
       "       param_grid=[{'preparation__num__imputer__strategy': ['mean', 'median', 'most_frequent'], 'feat_selector__k': [1, 2, 3, 4, 5, 6, 7, 8, 9, 10, 11, 12, 13, 14, 15, 16]}],\n",
       "       pre_dispatch='2*n_jobs', refit=True, return_train_score='warn',\n",
       "       scoring='neg_mean_squared_error', verbose=2)"
      ]
     },
     "execution_count": 126,
     "metadata": {},
     "output_type": "execute_result"
    }
   ],
   "source": [
    "grid_search.fit(housing, housing_labels)"
   ]
  },
  {
   "cell_type": "code",
   "execution_count": 129,
   "metadata": {},
   "outputs": [
    {
     "data": {
      "text/plain": [
       "{'feat_selector__k': 7, 'preparation__num__imputer__strategy': 'mean'}"
      ]
     },
     "execution_count": 129,
     "metadata": {},
     "output_type": "execute_result"
    }
   ],
   "source": [
    "grid_search.best_params_"
   ]
  },
  {
   "cell_type": "code",
   "execution_count": 130,
   "metadata": {},
   "outputs": [
    {
     "data": {
      "text/plain": [
       "Pipeline(memory=None,\n",
       "     steps=[('preparation', ColumnTransformer(n_jobs=None, remainder='drop', sparse_threshold=0.3,\n",
       "         transformer_weights=None,\n",
       "         transformers=[('num', Pipeline(memory=None,\n",
       "     steps=[('imputer', SimpleImputer(copy=True, fill_value=None, missing_values=nan, strategy='mean',\n",
       "       verbose=...  gamma=1.2763760166977702, kernel='rbf', max_iter=-1, shrinking=True,\n",
       "  tol=0.001, verbose=False))])"
      ]
     },
     "execution_count": 130,
     "metadata": {},
     "output_type": "execute_result"
    }
   ],
   "source": [
    "grid_search.best_estimator_"
   ]
  },
  {
   "cell_type": "code",
   "execution_count": 131,
   "metadata": {},
   "outputs": [
    {
     "name": "stdout",
     "output_type": "stream",
     "text": [
      "84840.09257059252 {'feat_selector__k': 1, 'preparation__num__imputer__strategy': 'mean'}\n",
      "84840.09257059252 {'feat_selector__k': 1, 'preparation__num__imputer__strategy': 'median'}\n",
      "84840.09257059252 {'feat_selector__k': 1, 'preparation__num__imputer__strategy': 'most_frequent'}\n",
      "75783.52933974986 {'feat_selector__k': 2, 'preparation__num__imputer__strategy': 'mean'}\n",
      "75783.52933974986 {'feat_selector__k': 2, 'preparation__num__imputer__strategy': 'median'}\n",
      "75783.52933974986 {'feat_selector__k': 2, 'preparation__num__imputer__strategy': 'most_frequent'}\n",
      "67045.72657961122 {'feat_selector__k': 3, 'preparation__num__imputer__strategy': 'mean'}\n",
      "67045.72657961122 {'feat_selector__k': 3, 'preparation__num__imputer__strategy': 'median'}\n",
      "67045.72657961122 {'feat_selector__k': 3, 'preparation__num__imputer__strategy': 'most_frequent'}\n",
      "63126.73864706994 {'feat_selector__k': 4, 'preparation__num__imputer__strategy': 'mean'}\n",
      "63126.73864706994 {'feat_selector__k': 4, 'preparation__num__imputer__strategy': 'median'}\n",
      "63126.73864706994 {'feat_selector__k': 4, 'preparation__num__imputer__strategy': 'most_frequent'}\n",
      "58870.82393051786 {'feat_selector__k': 5, 'preparation__num__imputer__strategy': 'mean'}\n",
      "58870.82393051786 {'feat_selector__k': 5, 'preparation__num__imputer__strategy': 'median'}\n",
      "58870.82393051786 {'feat_selector__k': 5, 'preparation__num__imputer__strategy': 'most_frequent'}\n",
      "58055.77014628021 {'feat_selector__k': 6, 'preparation__num__imputer__strategy': 'mean'}\n",
      "58055.77014628021 {'feat_selector__k': 6, 'preparation__num__imputer__strategy': 'median'}\n",
      "58055.77014628021 {'feat_selector__k': 6, 'preparation__num__imputer__strategy': 'most_frequent'}\n",
      "57977.933831617294 {'feat_selector__k': 7, 'preparation__num__imputer__strategy': 'mean'}\n",
      "57977.933831617294 {'feat_selector__k': 7, 'preparation__num__imputer__strategy': 'median'}\n",
      "57977.933831617294 {'feat_selector__k': 7, 'preparation__num__imputer__strategy': 'most_frequent'}\n",
      "58629.71670036849 {'feat_selector__k': 8, 'preparation__num__imputer__strategy': 'mean'}\n",
      "58796.36505749193 {'feat_selector__k': 8, 'preparation__num__imputer__strategy': 'median'}\n",
      "59029.21668144572 {'feat_selector__k': 8, 'preparation__num__imputer__strategy': 'most_frequent'}\n",
      "61470.22886912481 {'feat_selector__k': 9, 'preparation__num__imputer__strategy': 'mean'}\n",
      "61705.68171108505 {'feat_selector__k': 9, 'preparation__num__imputer__strategy': 'median'}\n",
      "61897.13981606233 {'feat_selector__k': 9, 'preparation__num__imputer__strategy': 'most_frequent'}\n",
      "63095.097674473174 {'feat_selector__k': 10, 'preparation__num__imputer__strategy': 'mean'}\n",
      "63310.041138813525 {'feat_selector__k': 10, 'preparation__num__imputer__strategy': 'median'}\n",
      "63490.787993743725 {'feat_selector__k': 10, 'preparation__num__imputer__strategy': 'most_frequent'}\n",
      "61776.81650902765 {'feat_selector__k': 11, 'preparation__num__imputer__strategy': 'mean'}\n",
      "61981.13356656789 {'feat_selector__k': 11, 'preparation__num__imputer__strategy': 'median'}\n",
      "62154.057890757875 {'feat_selector__k': 11, 'preparation__num__imputer__strategy': 'most_frequent'}\n",
      "62696.081208570366 {'feat_selector__k': 12, 'preparation__num__imputer__strategy': 'mean'}\n",
      "62900.58865168966 {'feat_selector__k': 12, 'preparation__num__imputer__strategy': 'median'}\n",
      "63068.56816297118 {'feat_selector__k': 12, 'preparation__num__imputer__strategy': 'most_frequent'}\n",
      "63725.99826152553 {'feat_selector__k': 13, 'preparation__num__imputer__strategy': 'mean'}\n",
      "63940.31261021826 {'feat_selector__k': 13, 'preparation__num__imputer__strategy': 'median'}\n",
      "64199.95436623998 {'feat_selector__k': 13, 'preparation__num__imputer__strategy': 'most_frequent'}\n",
      "64421.49293624175 {'feat_selector__k': 14, 'preparation__num__imputer__strategy': 'mean'}\n",
      "64639.73899622003 {'feat_selector__k': 14, 'preparation__num__imputer__strategy': 'median'}\n",
      "64912.88299450983 {'feat_selector__k': 14, 'preparation__num__imputer__strategy': 'most_frequent'}\n",
      "64760.30220863006 {'feat_selector__k': 15, 'preparation__num__imputer__strategy': 'mean'}\n",
      "64983.52086132894 {'feat_selector__k': 15, 'preparation__num__imputer__strategy': 'median'}\n",
      "65269.00394905558 {'feat_selector__k': 15, 'preparation__num__imputer__strategy': 'most_frequent'}\n",
      "64759.6428391095 {'feat_selector__k': 16, 'preparation__num__imputer__strategy': 'mean'}\n",
      "64982.20982993112 {'feat_selector__k': 16, 'preparation__num__imputer__strategy': 'median'}\n",
      "65268.2276378393 {'feat_selector__k': 16, 'preparation__num__imputer__strategy': 'most_frequent'}\n"
     ]
    }
   ],
   "source": [
    "cvres = grid_search.cv_results_\n",
    "for mean_score, params in zip(cvres['mean_test_score'], cvres['params']):\n",
    "    print(np.sqrt(-mean_score), params)"
   ]
  },
  {
   "cell_type": "markdown",
   "metadata": {},
   "source": [
    "Apparently, k = 7 gives the best result, but we didn't really start with a good model. We should probably find a better model and redo this analysis."
   ]
  },
  {
   "cell_type": "code",
   "execution_count": null,
   "metadata": {},
   "outputs": [],
   "source": []
  }
 ],
 "metadata": {
  "kernelspec": {
   "display_name": "Python 3",
   "language": "python",
   "name": "python3"
  },
  "language_info": {
   "codemirror_mode": {
    "name": "ipython",
    "version": 3
   },
   "file_extension": ".py",
   "mimetype": "text/x-python",
   "name": "python",
   "nbconvert_exporter": "python",
   "pygments_lexer": "ipython3",
   "version": "3.6.7"
  }
 },
 "nbformat": 4,
 "nbformat_minor": 2
}
